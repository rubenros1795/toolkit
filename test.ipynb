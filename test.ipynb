{
 "cells": [
  {
   "cell_type": "markdown",
   "source": [
    "# Demo Notebook\n",
    "\n",
    "This notebook demonstrates a toolkit for text data analysis in Digital Humanities research. It is aimed at easy and efficient parsing, cleaning and analyzing of data. The package focuses on tabular text data."
   ],
   "metadata": {}
  },
  {
   "cell_type": "code",
   "execution_count": 4,
   "source": [
    "from src.toolkit import visualization,config,dataloader,distinctiveness,collocation\n",
    "\n",
    "vs = visualization.Style()\n",
    "vs.set_default()"
   ],
   "outputs": [],
   "metadata": {}
  },
  {
   "cell_type": "markdown",
   "source": [
    "## Loading Configuration\n",
    "Set paths to text data, stopword files etc. in a json-formatted text file for easy access."
   ],
   "metadata": {}
  },
  {
   "cell_type": "code",
   "execution_count": 5,
   "source": [
    "config_json = config.load('config.json')"
   ],
   "outputs": [],
   "metadata": {}
  },
  {
   "cell_type": "markdown",
   "source": [
    "## Loading Data\n",
    "Load your data by pointing to a folder with text files. Data cleaning based on stopwords and Part-of-Speech tags can also be done."
   ],
   "metadata": {}
  },
  {
   "cell_type": "code",
   "execution_count": 6,
   "source": [
    "dl = dataloader.DataLoader(\n",
    "                           year_range=(1945,1946),\n",
    "                           text_column='lemm_cleaned',\n",
    "                           data_path=config_json['text_data_path'],\n",
    "                           stopword_path=config_json['stopword_path'],\n",
    "                           load_text=True\n",
    "                           )\n",
    "dl.load_pos(pos_path=config_json['pos_path'])\n",
    "dl.load()\n",
    "dl.clean(remove_stopwords=True,pos_types=['N','ADJ','WW'])"
   ],
   "outputs": [
    {
     "output_type": "stream",
     "name": "stdout",
     "text": [
      "\t > loading data ...\n"
     ]
    },
    {
     "output_type": "stream",
     "name": "stderr",
     "text": [
      "100%|██████████| 1/1 [00:00<00:00,  3.25it/s]\n"
     ]
    },
    {
     "output_type": "stream",
     "name": "stdout",
     "text": [
      "\t > cleaning data ...\n"
     ]
    }
   ],
   "metadata": {}
  },
  {
   "cell_type": "code",
   "execution_count": 7,
   "source": [
    "data  = dl.data"
   ],
   "outputs": [],
   "metadata": {}
  },
  {
   "cell_type": "markdown",
   "source": [
    "## Counting Words\n",
    "The basis of text mining: count words easily."
   ],
   "metadata": {}
  },
  {
   "cell_type": "code",
   "execution_count": null,
   "source": [
    "fq = toolkit.frequency.Frequency(data,'lemm_cleaned','date','party-ref','month')\n",
    "fq.get_total_tokens()\n",
    "fq.count_word('parliament')"
   ],
   "outputs": [],
   "metadata": {}
  },
  {
   "cell_type": "markdown",
   "source": [
    "## Finding Distinctive Terms\n",
    "\n",
    "Textual difference forms the basis for computational humanistic inquiry. Here we use log likelihood estimates to find terms distinctive for a specific category."
   ],
   "metadata": {}
  },
  {
   "cell_type": "code",
   "execution_count": null,
   "source": [
    "dst = distinctiveness.Distinctiveness(data=data,type_column='party-ref',text_column='lemm_cleaned')\n",
    "dst.fit_vectorizer(max_features=10000,ngram_range=(1,2))\n",
    "dst_df = dst.get_likelihoods()"
   ],
   "outputs": [],
   "metadata": {}
  },
  {
   "cell_type": "markdown",
   "source": [
    "## Finding Collocates\n",
    "\n",
    "Co-occurrences can be used to estimate the relatedness of two terms based on the observed co-occurrence compared to the expected co-occurrence. Simply pass your data and choose a collocation metric and a window."
   ],
   "metadata": {}
  },
  {
   "cell_type": "code",
   "execution_count": 8,
   "source": [
    "clc = collocation.Collocation(data=data,measure='dice')"
   ],
   "outputs": [],
   "metadata": {}
  },
  {
   "cell_type": "code",
   "execution_count": 9,
   "source": [
    "clc.find_collocates()\n",
    "clc.score_collocates()"
   ],
   "outputs": [],
   "metadata": {}
  },
  {
   "cell_type": "code",
   "execution_count": 10,
   "source": [
    "clc.find_term('parlement')"
   ],
   "outputs": [
    {
     "output_type": "execute_result",
     "data": {
      "text/plain": [
       "{}"
      ]
     },
     "metadata": {},
     "execution_count": 10
    }
   ],
   "metadata": {}
  },
  {
   "cell_type": "code",
   "execution_count": 13,
   "source": [
    "clc.finder"
   ],
   "outputs": [
    {
     "output_type": "execute_result",
     "data": {
      "text/plain": [
       "<nltk.collocations.BigramCollocationFinder at 0x7f4f9734faf0>"
      ]
     },
     "metadata": {},
     "execution_count": 13
    }
   ],
   "metadata": {}
  },
  {
   "cell_type": "code",
   "execution_count": 14,
   "source": [
    "dict(clc.finder.score_ngrams('pmi'))"
   ],
   "outputs": [
    {
     "output_type": "execute_result",
     "data": {
      "text/plain": [
       "{}"
      ]
     },
     "metadata": {},
     "execution_count": 14
    }
   ],
   "metadata": {}
  },
  {
   "cell_type": "code",
   "execution_count": 15,
   "source": [
    "data"
   ],
   "outputs": [
    {
     "output_type": "execute_result",
     "data": {
      "text/html": [
       "<div>\n",
       "<style scoped>\n",
       "    .dataframe tbody tr th:only-of-type {\n",
       "        vertical-align: middle;\n",
       "    }\n",
       "\n",
       "    .dataframe tbody tr th {\n",
       "        vertical-align: top;\n",
       "    }\n",
       "\n",
       "    .dataframe thead th {\n",
       "        text-align: right;\n",
       "    }\n",
       "</style>\n",
       "<table border=\"1\" class=\"dataframe\">\n",
       "  <thead>\n",
       "    <tr style=\"text-align: right;\">\n",
       "      <th></th>\n",
       "      <th>speaker</th>\n",
       "      <th>role</th>\n",
       "      <th>party-ref</th>\n",
       "      <th>member-ref</th>\n",
       "      <th>speech_id</th>\n",
       "      <th>lemm_cleaned</th>\n",
       "      <th>date</th>\n",
       "    </tr>\n",
       "  </thead>\n",
       "  <tbody>\n",
       "    <tr>\n",
       "      <th>0</th>\n",
       "      <td>van Schaik</td>\n",
       "      <td>chair</td>\n",
       "      <td>nl.p.kvp</td>\n",
       "      <td>nl.m.01184</td>\n",
       "      <td>nl.proc.sgd.d.194519460000125.1.2</td>\n",
       "      <td>delen inkomen</td>\n",
       "      <td>1946-1-22</td>\n",
       "    </tr>\n",
       "    <tr>\n",
       "      <th>1</th>\n",
       "      <td>van Schaik</td>\n",
       "      <td>chair</td>\n",
       "      <td>nl.p.kvp</td>\n",
       "      <td>nl.m.01184</td>\n",
       "      <td>nl.proc.sgd.d.194519460000125.1.2</td>\n",
       "      <td>deg</td>\n",
       "      <td>1946-1-22</td>\n",
       "    </tr>\n",
       "    <tr>\n",
       "      <th>2</th>\n",
       "      <td>van Schaik</td>\n",
       "      <td>chair</td>\n",
       "      <td>nl.p.kvp</td>\n",
       "      <td>nl.m.01184</td>\n",
       "      <td>nl.proc.sgd.d.194519460000125.1.2</td>\n",
       "      <td>bericht lid verhinderen vergadering wonen</td>\n",
       "      <td>1946-1-22</td>\n",
       "    </tr>\n",
       "    <tr>\n",
       "      <th>3</th>\n",
       "      <td>van Schaik</td>\n",
       "      <td>chair</td>\n",
       "      <td>nl.p.kvp</td>\n",
       "      <td>nl.m.01184</td>\n",
       "      <td>nl.proc.sgd.d.194519460000125.1.2</td>\n",
       "      <td>ongesteldheid vorig week volgen week ongesteld...</td>\n",
       "      <td>1946-1-22</td>\n",
       "    </tr>\n",
       "    <tr>\n",
       "      <th>4</th>\n",
       "      <td>van Schaik</td>\n",
       "      <td>chair</td>\n",
       "      <td>nl.p.kvp</td>\n",
       "      <td>nl.m.01184</td>\n",
       "      <td>nl.proc.sgd.d.194519460000125.1.2</td>\n",
       "      <td>heeren volgen dag ongesteldheid volgen dag slu...</td>\n",
       "      <td>1946-1-22</td>\n",
       "    </tr>\n",
       "    <tr>\n",
       "      <th>...</th>\n",
       "      <td>...</td>\n",
       "      <td>...</td>\n",
       "      <td>...</td>\n",
       "      <td>...</td>\n",
       "      <td>...</td>\n",
       "      <td>...</td>\n",
       "      <td>...</td>\n",
       "    </tr>\n",
       "    <tr>\n",
       "      <th>13341</th>\n",
       "      <td>van Poll</td>\n",
       "      <td>mp</td>\n",
       "      <td>nl.p.kvp</td>\n",
       "      <td>nl.m.01047</td>\n",
       "      <td>nl.proc.sgd.d.194519460000145.2.36</td>\n",
       "      <td>interpretatie uitblijven invrijheidstelling be...</td>\n",
       "      <td>1946-5-7</td>\n",
       "    </tr>\n",
       "    <tr>\n",
       "      <th>13342</th>\n",
       "      <td>van Poll</td>\n",
       "      <td>mp</td>\n",
       "      <td>nl.p.kvp</td>\n",
       "      <td>nl.m.01047</td>\n",
       "      <td>nl.proc.sgd.d.194519460000145.2.36</td>\n",
       "      <td>overzeesche gebied deelen motie constateering ...</td>\n",
       "      <td>1946-5-7</td>\n",
       "    </tr>\n",
       "    <tr>\n",
       "      <th>13343</th>\n",
       "      <td>van Poll</td>\n",
       "      <td>mp</td>\n",
       "      <td>nl.p.kvp</td>\n",
       "      <td>nl.m.01047</td>\n",
       "      <td>nl.proc.sgd.d.194519460000145.2.36</td>\n",
       "      <td>beraadslaging sluiten</td>\n",
       "      <td>1946-5-7</td>\n",
       "    </tr>\n",
       "    <tr>\n",
       "      <th>13344</th>\n",
       "      <td>van der Leeuw</td>\n",
       "      <td>government</td>\n",
       "      <td>na</td>\n",
       "      <td>nl.m.00793</td>\n",
       "      <td>nl.proc.sgd.d.194519460000145.4.10</td>\n",
       "      <td>interpellatie aangaan geldleeningen kredietove...</td>\n",
       "      <td>1946-5-7</td>\n",
       "    </tr>\n",
       "    <tr>\n",
       "      <th>13345</th>\n",
       "      <td>van der Leeuw</td>\n",
       "      <td>government</td>\n",
       "      <td>na</td>\n",
       "      <td>nl.m.00793</td>\n",
       "      <td>nl.proc.sgd.d.194519460000145.4.10</td>\n",
       "      <td></td>\n",
       "      <td>1946-5-7</td>\n",
       "    </tr>\n",
       "  </tbody>\n",
       "</table>\n",
       "<p>12845 rows × 7 columns</p>\n",
       "</div>"
      ],
      "text/plain": [
       "             speaker        role party-ref  member-ref  \\\n",
       "0         van Schaik       chair  nl.p.kvp  nl.m.01184   \n",
       "1         van Schaik       chair  nl.p.kvp  nl.m.01184   \n",
       "2         van Schaik       chair  nl.p.kvp  nl.m.01184   \n",
       "3         van Schaik       chair  nl.p.kvp  nl.m.01184   \n",
       "4         van Schaik       chair  nl.p.kvp  nl.m.01184   \n",
       "...              ...         ...       ...         ...   \n",
       "13341       van Poll          mp  nl.p.kvp  nl.m.01047   \n",
       "13342       van Poll          mp  nl.p.kvp  nl.m.01047   \n",
       "13343       van Poll          mp  nl.p.kvp  nl.m.01047   \n",
       "13344  van der Leeuw  government        na  nl.m.00793   \n",
       "13345  van der Leeuw  government        na  nl.m.00793   \n",
       "\n",
       "                                speech_id  \\\n",
       "0       nl.proc.sgd.d.194519460000125.1.2   \n",
       "1       nl.proc.sgd.d.194519460000125.1.2   \n",
       "2       nl.proc.sgd.d.194519460000125.1.2   \n",
       "3       nl.proc.sgd.d.194519460000125.1.2   \n",
       "4       nl.proc.sgd.d.194519460000125.1.2   \n",
       "...                                   ...   \n",
       "13341  nl.proc.sgd.d.194519460000145.2.36   \n",
       "13342  nl.proc.sgd.d.194519460000145.2.36   \n",
       "13343  nl.proc.sgd.d.194519460000145.2.36   \n",
       "13344  nl.proc.sgd.d.194519460000145.4.10   \n",
       "13345  nl.proc.sgd.d.194519460000145.4.10   \n",
       "\n",
       "                                            lemm_cleaned       date  \n",
       "0                                          delen inkomen  1946-1-22  \n",
       "1                                                    deg  1946-1-22  \n",
       "2              bericht lid verhinderen vergadering wonen  1946-1-22  \n",
       "3      ongesteldheid vorig week volgen week ongesteld...  1946-1-22  \n",
       "4      heeren volgen dag ongesteldheid volgen dag slu...  1946-1-22  \n",
       "...                                                  ...        ...  \n",
       "13341  interpretatie uitblijven invrijheidstelling be...   1946-5-7  \n",
       "13342  overzeesche gebied deelen motie constateering ...   1946-5-7  \n",
       "13343                              beraadslaging sluiten   1946-5-7  \n",
       "13344  interpellatie aangaan geldleeningen kredietove...   1946-5-7  \n",
       "13345                                                      1946-5-7  \n",
       "\n",
       "[12845 rows x 7 columns]"
      ]
     },
     "metadata": {},
     "execution_count": 15
    }
   ],
   "metadata": {}
  },
  {
   "cell_type": "code",
   "execution_count": null,
   "source": [],
   "outputs": [],
   "metadata": {}
  }
 ],
 "metadata": {
  "orig_nbformat": 4,
  "language_info": {
   "name": "python",
   "version": "3.9.7",
   "mimetype": "text/x-python",
   "codemirror_mode": {
    "name": "ipython",
    "version": 3
   },
   "pygments_lexer": "ipython3",
   "nbconvert_exporter": "python",
   "file_extension": ".py"
  },
  "kernelspec": {
   "name": "python3",
   "display_name": "Python 3.9.7 64-bit"
  },
  "interpreter": {
   "hash": "31f2aee4e71d21fbe5cf8b01ff0e069b9275f58929596ceb00d14d90e3e16cd6"
  }
 },
 "nbformat": 4,
 "nbformat_minor": 2
}