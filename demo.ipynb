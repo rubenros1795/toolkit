{
 "cells": [
  {
   "cell_type": "markdown",
   "source": [
    "# Demo Notebook\n",
    "\n",
    "This notebook demonstrates a toolkit for text data analysis in Digital Humanities research. It is aimed at easy and efficient parsing, cleaning and analyzing of data. The package focuses on tabular text data."
   ],
   "metadata": {}
  },
  {
   "cell_type": "code",
   "execution_count": 1,
   "source": [
    "from src.toolkit import visualization,config,dataloader,distinctiveness,collocation, frequency\n",
    "\n",
    "vs = visualization.Style()\n",
    "vs.set_default()"
   ],
   "outputs": [],
   "metadata": {}
  },
  {
   "cell_type": "markdown",
   "source": [
    "## Loading Configuration\n",
    "Set paths to text data, stopword files etc. in a json-formatted text file for easy access."
   ],
   "metadata": {}
  },
  {
   "cell_type": "code",
   "execution_count": 2,
   "source": [
    "config_json = config.load('config.json')"
   ],
   "outputs": [],
   "metadata": {}
  },
  {
   "cell_type": "markdown",
   "source": [
    "## Loading Data\n",
    "Load your data by pointing to a folder with text files. Data cleaning based on stopwords and Part-of-Speech tags can also be done."
   ],
   "metadata": {}
  },
  {
   "cell_type": "code",
   "execution_count": 3,
   "source": [
    "dl = dataloader.DataLoader(\n",
    "                           year_range=(1945,1950),\n",
    "                           text_column='lemm_cleaned',\n",
    "                           data_path=config_json['text_data_path'],\n",
    "                           stopword_path=config_json['stopword_path'],\n",
    "                           load_text=True\n",
    "                           )\n",
    "dl.load_pos(pos_path=config_json['pos_path'])\n",
    "dl.load()\n",
    "dl.clean(remove_stopwords=True,pos_types='all')\n",
    "data  = dl.data"
   ],
   "outputs": [
    {
     "output_type": "stream",
     "name": "stdout",
     "text": [
      "\t > loading data ...\n"
     ]
    },
    {
     "output_type": "stream",
     "name": "stderr",
     "text": [
      "100%|██████████| 5/5 [00:03<00:00,  1.54it/s]\n"
     ]
    },
    {
     "output_type": "stream",
     "name": "stdout",
     "text": [
      "\t > cleaning data ...\n"
     ]
    }
   ],
   "metadata": {}
  },
  {
   "cell_type": "markdown",
   "source": [
    "## Counting Words\n",
    "The basis of text mining: count words easily."
   ],
   "metadata": {}
  },
  {
   "cell_type": "code",
   "execution_count": 15,
   "source": [
    "fq = frequency.Frequency(data,'lemm_cleaned','date','party-ref','year')\n",
    "fq.get_total_tokens()\n",
    "fq.count_word('parlement')"
   ],
   "outputs": [],
   "metadata": {}
  },
  {
   "cell_type": "code",
   "execution_count": 16,
   "source": [
    "fq.dataframe.plot(x='date',y='n_parlement')"
   ],
   "outputs": [
    {
     "output_type": "execute_result",
     "data": {
      "text/plain": [
       "<AxesSubplot:xlabel='date'>"
      ]
     },
     "metadata": {},
     "execution_count": 16
    },
    {
     "output_type": "display_data",
     "data": {
      "image/png": "[encoded data removed]",
      "text/plain": [
       "<Figure size 432x288 with 1 Axes>"
      ]
     },
     "metadata": {}
    }
   ],
   "metadata": {}
  },
  {
   "cell_type": "markdown",
   "source": [
    "## Finding Distinctive Terms\n",
    "\n",
    "Textual difference forms the basis for computational humanistic inquiry. Here we use log likelihood estimates to find terms distinctive for a specific category."
   ],
   "metadata": {}
  },
  {
   "cell_type": "code",
   "execution_count": 18,
   "source": [
    "dst = distinctiveness.Distinctiveness(dataframe=data,type_column='party-ref',text_column='lemm_cleaned')\n",
    "dst.fit_vectorizer(max_features=10000,ngram_range=(1,2))\n",
    "dst_df = dst.get_likelihoods()"
   ],
   "outputs": [
    {
     "output_type": "stream",
     "name": "stdout",
     "text": [
      "\t > fitting word counts in CountVectorizer ...\n",
      "\t > calculating word-level log likelihood scores ...\n"
     ]
    }
   ],
   "metadata": {}
  },
  {
   "cell_type": "code",
   "execution_count": 25,
   "source": [
    "dst.lls_df[dst.lls_df['type'] == 'nl.p.sgp'].sort_values(0,ascending=False).head(10)"
   ],
   "outputs": [
    {
     "output_type": "execute_result",
     "data": {
      "text/html": [
       "<div>\n",
       "<style scoped>\n",
       "    .dataframe tbody tr th:only-of-type {\n",
       "        vertical-align: middle;\n",
       "    }\n",
       "\n",
       "    .dataframe tbody tr th {\n",
       "        vertical-align: top;\n",
       "    }\n",
       "\n",
       "    .dataframe thead th {\n",
       "        text-align: right;\n",
       "    }\n",
       "</style>\n",
       "<table border=\"1\" class=\"dataframe\">\n",
       "  <thead>\n",
       "    <tr style=\"text-align: right;\">\n",
       "      <th></th>\n",
       "      <th>0</th>\n",
       "      <th>1</th>\n",
       "      <th>type</th>\n",
       "    </tr>\n",
       "  </thead>\n",
       "  <tbody>\n",
       "    <tr>\n",
       "      <th>0</th>\n",
       "      <td>1760.616336</td>\n",
       "      <td>gods</td>\n",
       "      <td>nl.p.sgp</td>\n",
       "    </tr>\n",
       "    <tr>\n",
       "      <th>1</th>\n",
       "      <td>885.451924</td>\n",
       "      <td>soekarno</td>\n",
       "      <td>nl.p.sgp</td>\n",
       "    </tr>\n",
       "    <tr>\n",
       "      <th>2</th>\n",
       "      <td>872.715838</td>\n",
       "      <td>indie</td>\n",
       "      <td>nl.p.sgp</td>\n",
       "    </tr>\n",
       "    <tr>\n",
       "      <th>3</th>\n",
       "      <td>720.397738</td>\n",
       "      <td>gods woord</td>\n",
       "      <td>nl.p.sgp</td>\n",
       "    </tr>\n",
       "    <tr>\n",
       "      <th>4</th>\n",
       "      <td>666.871833</td>\n",
       "      <td>god</td>\n",
       "      <td>nl.p.sgp</td>\n",
       "    </tr>\n",
       "    <tr>\n",
       "      <th>5</th>\n",
       "      <td>631.941132</td>\n",
       "      <td>bepleiten</td>\n",
       "      <td>nl.p.sgp</td>\n",
       "    </tr>\n",
       "    <tr>\n",
       "      <th>6</th>\n",
       "      <td>603.965708</td>\n",
       "      <td>zandt</td>\n",
       "      <td>nl.p.sgp</td>\n",
       "    </tr>\n",
       "    <tr>\n",
       "      <th>7</th>\n",
       "      <td>599.205547</td>\n",
       "      <td>dewijl</td>\n",
       "      <td>nl.p.sgp</td>\n",
       "    </tr>\n",
       "    <tr>\n",
       "      <th>8</th>\n",
       "      <td>534.289608</td>\n",
       "      <td>afvaardigen</td>\n",
       "      <td>nl.p.sgp</td>\n",
       "    </tr>\n",
       "    <tr>\n",
       "      <th>9</th>\n",
       "      <td>527.582844</td>\n",
       "      <td>zondag</td>\n",
       "      <td>nl.p.sgp</td>\n",
       "    </tr>\n",
       "  </tbody>\n",
       "</table>\n",
       "</div>"
      ],
      "text/plain": [
       "             0            1      type\n",
       "0  1760.616336         gods  nl.p.sgp\n",
       "1   885.451924     soekarno  nl.p.sgp\n",
       "2   872.715838        indie  nl.p.sgp\n",
       "3   720.397738   gods woord  nl.p.sgp\n",
       "4   666.871833          god  nl.p.sgp\n",
       "5   631.941132    bepleiten  nl.p.sgp\n",
       "6   603.965708        zandt  nl.p.sgp\n",
       "7   599.205547       dewijl  nl.p.sgp\n",
       "8   534.289608  afvaardigen  nl.p.sgp\n",
       "9   527.582844       zondag  nl.p.sgp"
      ]
     },
     "metadata": {},
     "execution_count": 25
    }
   ],
   "metadata": {}
  },
  {
   "cell_type": "markdown",
   "source": [
    "## Finding Collocates\n",
    "\n",
    "Co-occurrences can be used to estimate the relatedness of two terms based on the observed co-occurrence compared to the expected co-occurrence. Simply pass your data and choose a collocation metric and a window."
   ],
   "metadata": {}
  },
  {
   "cell_type": "code",
   "execution_count": 4,
   "source": [
    "clc = collocation.Collocation(data=data,text_column='lemm_cleaned',measure='pmi')\n",
    "clc.find_collocates()\n",
    "clc.score_collocates()"
   ],
   "outputs": [],
   "metadata": {}
  },
  {
   "cell_type": "code",
   "execution_count": 9,
   "source": [
    "clc.find_term('gordijn',direction='right')"
   ],
   "outputs": [
    {
     "output_type": "execute_result",
     "data": {
      "text/plain": [
       "{('ijzer', 'gordijn'): 14.040790792101298}"
      ]
     },
     "metadata": {},
     "execution_count": 9
    }
   ],
   "metadata": {}
  }
 ],
 "metadata": {
  "orig_nbformat": 4,
  "language_info": {
   "name": "python",
   "version": "3.9.7",
   "mimetype": "text/x-python",
   "codemirror_mode": {
    "name": "ipython",
    "version": 3
   },
   "pygments_lexer": "ipython3",
   "nbconvert_exporter": "python",
   "file_extension": ".py"
  },
  "kernelspec": {
   "name": "python3",
   "display_name": "Python 3.9.7 64-bit"
  },
  "interpreter": {
   "hash": "31f2aee4e71d21fbe5cf8b01ff0e069b9275f58929596ceb00d14d90e3e16cd6"
  }
 },
 "nbformat": 4,
 "nbformat_minor": 2
}